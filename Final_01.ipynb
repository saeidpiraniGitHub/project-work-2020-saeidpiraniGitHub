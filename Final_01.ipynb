{
 "cells": [
  {
   "cell_type": "markdown",
   "metadata": {},
   "source": [
    "## Post-processing of electromagnetic simulation result for field emission study in an ESS superconducting cavity\n"
   ]
  },
  {
   "cell_type": "markdown",
   "metadata": {},
   "source": [
    "- Abstract\n",
    "\n",
    "In this project post-processing of field emission, electromagnetic simulation results for a superconducting cavity in European Spallation Source (ESS) linear accelerator is presented. First a short overview for field emission is presented, then electromagnetic simulation results output are presented by 6 pictures. Afterward .txt file belong to simulation output are post processed by a prepared Python code. Then postprocessing results are presened by some graphs.<br />\n",
    "The data post-processing is to turn qualitative simulation image to a quantitative form. At the end this study will tell us maximum field emission impact energy and number of similar impact energies.\n",
    "\n",
    "- Field emission\n",
    "\n",
    "Field emission is one of the important limiting factors in increasing a cavity-accelerating gradient. It is the emission of electrons from regions with high surface E-field. Emitted electrons absorb RF power, can generate dark current, increase cavity losses and even push the cavity to quench. In order to study field emission in medium beta cavity I have used CST particle solver to calculate maximum impact energy of field emitted electrons. Electron tracking simulation is to study the electron trajectory in the field emission and the impact energy calculation for the emitted electrons. The particle tracking study is performed for 10 MV/m."
   ]
  },
  {
   "cell_type": "markdown",
   "metadata": {},
   "source": [
    "- Electromagnetic simulation result output for electron tracking"
   ]
  },
  {
   "cell_type": "markdown",
   "metadata": {},
   "source": [
    "|                         |                        |\n",
    "|:-----------------------:|:----------------------:|\n",
    "| <img src=\"01right.jpg\"> | <img src=\"02left.jpg\"> |\n",
    "| <img src=\"02right.jpg\"> | <img src=\"03left.jpg\"> |\n",
    "| <img src=\"03right.jpg\"> | <img src=\"04left.jpg\"> |"
   ]
  },
  {
   "cell_type": "markdown",
   "metadata": {},
   "source": [
    "- Python code for post-rocessing .txt simulation files"
   ]
  },
  {
   "cell_type": "code",
   "execution_count": 9,
   "metadata": {},
   "outputs": [
    {
     "name": "stdout",
     "output_type": "stream",
     "text": [
      "iris1 events:  623\n",
      "iris2 events:  1254\n",
      "iris3 events:  1162\n",
      "iris4 events:  1214\n"
     ]
    }
   ],
   "source": [
    "import numpy as np\n",
    "import pandas as pd\n",
    "import sympy as sy\n",
    "from ipywidgets import interactive\n",
    "from sympy import init_session\n",
    "import matplotlib.pyplot as plt\n",
    "from pylab import rcParams\n",
    "from matplotlib.pyplot import *\n",
    "\n",
    "###############################################################\n",
    "##### read 7 existing files with '.txt' suffix in current folder, their names start with 'iris'\n",
    "###############################################################\n",
    "\n",
    "iris1_right=pd.read_csv('iris1.right.txt',header=None,comment='#',names=['particles'])\n",
    "L1_right=len(iris1_right)\n",
    "\n",
    "iris2_left=pd.read_csv('iris2.left.txt',header=None,comment='#',names=['particles'])\n",
    "L2_left=len(iris2_left)\n",
    "\n",
    "iris2_right=pd.read_csv('iris2.right.txt',header=None,comment='#',names=['particles'])\n",
    "L2_right=len(iris2_right)\n",
    "\n",
    "iris3_left=pd.read_csv('iris3.left.txt',header=None,comment='#',names=['particles'])\n",
    "L3_left=len(iris3_left)\n",
    "\n",
    "iris3_right=pd.read_csv('iris3.right.txt',header=None,comment='#',names=['particles'])\n",
    "L3_right=len(iris3_right)\n",
    "\n",
    "iris4_left=pd.read_csv('iris4.left.txt',header=None,comment='#',names=['particles'])\n",
    "L4_left=len(iris4_left)\n",
    "\n",
    "iris4_right=pd.read_csv('iris4.right.txt',header=None,comment='#',names=['particles'])\n",
    "L4_right=len(iris4_right)\n",
    "\n",
    "e_track_iris1=pd.DataFrame(columns=())\n",
    "e_track_iris2=pd.DataFrame(columns=())\n",
    "e_track_iris3=pd.DataFrame(columns=())\n",
    "e_track_iris4=pd.DataFrame(columns=())\n",
    "\n",
    "\n",
    "###############################################################\n",
    "##### looking at .txt files shows each one is a number of events which start with '0' and ends with a number.\n",
    "##### This is electron track energy. I am only interested to the impact energy. The number before '0' is the \n",
    "##### impact energy for the previous event. Here I pickup impact energis by tracking the '0'.\n",
    "###############################################################\n",
    "\n",
    "i1=0\n",
    "for i1 in range (1,L1_right):\n",
    "    if int(iris1_right.iloc[i1])==0:\n",
    "        iris1_right.iloc[i1-1]=10000*int((iris1_right.iloc[i1-1])/10000)\n",
    "        e_track_iris1=e_track_iris1.append(iris1_right.iloc[i1-1])\n",
    "L11=len(e_track_iris1)\n",
    "\n",
    "        \n",
    "i1=0        \n",
    "for i1 in range (1,L2_left):\n",
    "    if int(iris2_left.iloc[i1])==0:\n",
    "        iris2_left.iloc[i1-1]=10000*int((iris2_left.iloc[i1-1])/10000)\n",
    "        e_track_iris2=e_track_iris2.append(iris2_left.iloc[i1-1])\n",
    "        \n",
    "i1=0        \n",
    "for i1 in range (1,L2_right):\n",
    "    if int(iris2_right.iloc[i1])==0:\n",
    "        iris2_right.iloc[i1-1]=10000*int((iris2_right.iloc[i1-1])/10000)\n",
    "        e_track_iris2=e_track_iris2.append(iris2_right.iloc[i1-1])\n",
    "L12=len(e_track_iris2)\n",
    "        \n",
    "i1=0        \n",
    "for i1 in range (1,L3_left):\n",
    "    if int(iris3_left.iloc[i1])==0:\n",
    "        iris3_left.iloc[i1-1]=10000*int((iris3_left.iloc[i1-1])/10000)\n",
    "        e_track_iris3=e_track_iris3.append(iris3_left.iloc[i1-1])\n",
    "        \n",
    "i1=0        \n",
    "for i1 in range (1,L3_right):\n",
    "    if int(iris3_right.iloc[i1])==0:\n",
    "        iris3_right.iloc[i1-1]=10000*int((iris3_right.iloc[i1-1])/10000)\n",
    "        e_track_iris3=e_track_iris3.append(iris3_right.iloc[i1-1])\n",
    "L13=len(e_track_iris3)\n",
    "        \n",
    "i1=0        \n",
    "for i1 in range (1,L4_left):\n",
    "    if int(iris4_left.iloc[i1])==0:\n",
    "        iris4_left.iloc[i1-1]=10000*int((iris4_left.iloc[i1-1])/10000)\n",
    "        e_track_iris4=e_track_iris4.append(iris4_left.iloc[i1-1])\n",
    "        \n",
    "i1=0        \n",
    "for i1 in range (1,L4_right):\n",
    "    if int(iris4_right.iloc[i1])==0:\n",
    "        iris4_right.iloc[i1-1]=10000*int((iris4_right.iloc[i1-1])/10000)\n",
    "        e_track_iris4=e_track_iris4.append(iris4_right.iloc[i1-1])\n",
    "L14=len(e_track_iris4)\n",
    "\n",
    "\n",
    "###############################################################\n",
    "### Test point\n",
    "### Looking at .txt files tells that for iris1, iris2, iris3 and iris4 I expect to have 624, 1254, 1162 and 1214\n",
    "### If iris events match show process is correct\n",
    "###############################################################\n",
    "\n",
    "e_track_iris1=e_track_iris1.sort_values('particles')\n",
    "e_track_iris2=e_track_iris2.sort_values('particles')\n",
    "e_track_iris3=e_track_iris3.sort_values('particles')\n",
    "e_track_iris4=e_track_iris4.sort_values('particles')\n",
    "\n",
    "a01=e_track_iris1.groupby(e_track_iris1.columns.tolist()).size()\n",
    "a02=e_track_iris2.groupby(e_track_iris2.columns.tolist()).size()\n",
    "a03=e_track_iris3.groupby(e_track_iris3.columns.tolist()).size()\n",
    "a04=e_track_iris4.groupby(e_track_iris4.columns.tolist()).size()\n",
    "\n",
    "print('iris1 events: ',a01.sum())\n",
    "print('iris2 events: ',a02.sum())\n",
    "print('iris3 events: ',a03.sum())\n",
    "print('iris4 events: ',a04.sum())"
   ]
  },
  {
   "cell_type": "markdown",
   "metadata": {},
   "source": [
    "- Plotting results of post-processing"
   ]
  },
  {
   "cell_type": "code",
   "execution_count": 39,
   "metadata": {},
   "outputs": [
    {
     "data": {
      "image/png": "[encoded data removed]",
      "text/plain": [
       "<Figure size 1080x576 with 4 Axes>"
      ]
     },
     "metadata": {
      "needs_background": "light"
     },
     "output_type": "display_data"
    }
   ],
   "source": [
    "###############################################################\n",
    "### Plotting and Saving\n",
    "###############################################################\n",
    "rcParams['figure.figsize'] = 15, 8\n",
    "fig,ax=plt.subplots(2,2, sharex=True, sharey=True) \n",
    "matplotlib.rcParams.update({'font.size': 14})\n",
    "subplots_adjust(left=None, bottom=None, right=None, top=None, wspace=None, hspace=None)\n",
    "bottom=20 \n",
    "top=20\n",
    "\n",
    "\n",
    "subplot(2,2,1).plot(a01,'r.')\n",
    "plt.ticklabel_format(style='sci', axis='x', scilimits=(0,0))\n",
    "plt.xlabel('Energy [eV]')\n",
    "plt.ylabel('counts')\n",
    "plt.grid()\n",
    "plt.yscale('log')\n",
    "title('iris 1')\n",
    "savefig( 'iris_1.pdf', fmt='PDF', dpi=100)\n",
    "plt.subplots_adjust(hspace=1,wspace=0.5)\n",
    "    \n",
    "subplot(2,2,2).plot(a02,'r.')\n",
    "plt.ticklabel_format(style='sci', axis='x', scilimits=(0,0))\n",
    "plt.xlabel('Energy [eV]')\n",
    "plt.ylabel('counts')\n",
    "plt.grid()\n",
    "plt.yscale('log')\n",
    "title('iris 2')\n",
    "savefig( 'iris_2.pdf', fmt='PDF', dpi=100)\n",
    "plt.subplots_adjust(hspace=1,wspace=0.5)\n",
    "\n",
    "\n",
    "subplot(2,2,3).plot(a03,'r.')\n",
    "plt.ticklabel_format(style='sci', axis='x', scilimits=(0,0))\n",
    "plt.xlabel('Energy [eV]')\n",
    "plt.ylabel('counts')\n",
    "plt.grid()\n",
    "plt.yscale('log')\n",
    "title('iris 3')\n",
    "savefig( 'iris_3.pdf', fmt='PDF', dpi=100)\n",
    "plt.subplots_adjust(hspace=1,wspace=0.5)\n",
    "\n",
    "\n",
    "subplot(2,2,4).plot(a04,'r.')\n",
    "plt.ticklabel_format(style='sci', axis='x', scilimits=(0,0))\n",
    "plt.xlabel('Energy [eV]')\n",
    "plt.ylabel('counts')\n",
    "plt.grid()\n",
    "plt.yscale('log')\n",
    "title('iris 4')\n",
    "savefig( 'iris_4.pdf', fmt='PDF', dpi=100)\n",
    "plt.subplots_adjust(hspace=0.5,wspace=0.5)\n"
   ]
  },
  {
   "cell_type": "code",
   "execution_count": null,
   "metadata": {},
   "outputs": [],
   "source": [
    "\n"
   ]
  },
  {
   "cell_type": "code",
   "execution_count": null,
   "metadata": {},
   "outputs": [],
   "source": []
  }
 ],
 "metadata": {
  "kernelspec": {
   "display_name": "Python 3",
   "language": "python",
   "name": "python3"
  },
  "language_info": {
   "codemirror_mode": {
    "name": "ipython",
    "version": 3
   },
   "file_extension": ".py",
   "mimetype": "text/x-python",
   "name": "python",
   "nbconvert_exporter": "python",
   "pygments_lexer": "ipython3",
   "version": "3.7.6"
  }
 },
 "nbformat": 4,
 "nbformat_minor": 2
}
